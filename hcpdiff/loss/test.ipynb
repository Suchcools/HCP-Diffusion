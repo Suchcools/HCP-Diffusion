{
 "cells": [
  {
   "cell_type": "code",
   "execution_count": 22,
   "metadata": {},
   "outputs": [],
   "source": [
    "import torch\n",
    "from torch import nn\n",
    "from hcpdiff.loss import EDMLoss, SSIMLoss, GWLoss  # Replace 'your_module_name' with the actual module name where MinSNRLoss is defined\n",
    "\n",
    "class CombinedLoss(nn.Module):\n",
    "    def __init__(self, edm_weight=1.0, ssim_weight=0.1, gw_weight=0.1, gamma=1.0,**kwargs):\n",
    "        super(CombinedLoss, self).__init__()\n",
    "\n",
    "        self.edm_loss = EDMLoss(gamma=gamma, **kwargs)\n",
    "        \n",
    "        self.ssim_loss = SSIMLoss( **kwargs)\n",
    "        self.gw_loss = GWLoss(**kwargs)\n",
    "\n",
    "        self.edm_weight = edm_weight\n",
    "        self.ssim_weight = ssim_weight\n",
    "        self.gw_weight = gw_weight\n",
    "\n",
    "    def forward(self, input: torch.Tensor, target: torch.Tensor, sigma: torch.Tensor) -> torch.Tensor: # input: latent target: latent sigma [b,64,64,64]\n",
    "        edm_loss = self.edm_loss(input, target, sigma)\n",
    "        ssim_loss = self.ssim_loss(input, target)\n",
    "        gw_loss = self.gw_loss(input, target)\n",
    "\n",
    "        # Combine losses with weights\n",
    "        combined_loss = (\n",
    "            self.edm_weight * edm_loss +  # [20, 64, 64, 64]\n",
    "            self.ssim_weight * ssim_loss + \n",
    "            self.gw_weight * gw_loss\n",
    "        )\n",
    "\n",
    "        return combined_loss\n",
    "\n",
    "import torch"
   ]
  },
  {
   "cell_type": "code",
   "execution_count": 23,
   "metadata": {},
   "outputs": [],
   "source": [
    "edm_loss = EDMLoss(gamma=0.5)\n",
    "\n",
    "ssim_loss = SSIMLoss(reduction=None)\n",
    "gw_loss = GWLoss(reduction=None)\n",
    "inputs, target, sigma = torch.Tensor(2,64,64,64), torch.Tensor(2,64,64,64), torch.Tensor(2,1,1,1)\n",
    "\n",
    "edm_loss = edm_loss(inputs, target, sigma)\n",
    "ssim_loss = ssim_loss(inputs, target)\n",
    "gw_loss = gw_loss(inputs, target)\n"
   ]
  },
  {
   "cell_type": "code",
   "execution_count": 24,
   "metadata": {},
   "outputs": [
    {
     "data": {
      "text/plain": [
       "torch.Size([2, 64, 64, 64])"
      ]
     },
     "execution_count": 24,
     "metadata": {},
     "output_type": "execute_result"
    }
   ],
   "source": [
    "gw_loss.shape"
   ]
  },
  {
   "cell_type": "code",
   "execution_count": 28,
   "metadata": {},
   "outputs": [
    {
     "data": {
      "text/plain": [
       "tensor([nan, nan])"
      ]
     },
     "execution_count": 28,
     "metadata": {},
     "output_type": "execute_result"
    }
   ],
   "source": [
    "from pytorch_msssim import SSIM, MS_SSIM\n",
    "from torch.nn.modules.loss import _Loss\n",
    "import torch\n",
    "ssim = SSIM(size_average=False, channel=64) # channel -> 64\n",
    "ssim(inputs, target)"
   ]
  },
  {
   "cell_type": "code",
   "execution_count": null,
   "metadata": {},
   "outputs": [],
   "source": []
  }
 ],
 "metadata": {
  "kernelspec": {
   "display_name": "tomato",
   "language": "python",
   "name": "python3"
  },
  "language_info": {
   "codemirror_mode": {
    "name": "ipython",
    "version": 3
   },
   "file_extension": ".py",
   "mimetype": "text/x-python",
   "name": "python",
   "nbconvert_exporter": "python",
   "pygments_lexer": "ipython3",
   "version": "3.9.18"
  }
 },
 "nbformat": 4,
 "nbformat_minor": 2
}
