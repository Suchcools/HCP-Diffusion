{
 "cells": [
  {
   "cell_type": "code",
   "execution_count": 1,
   "metadata": {},
   "outputs": [
    {
     "name": "stdout",
     "output_type": "stream",
     "text": [
      "The history saving thread hit an unexpected error (DatabaseError('database disk image is malformed')).History will not be written to the database.\n"
     ]
    }
   ],
   "source": [
    "import torch\n",
    "from torch import nn\n",
    "from hcpdiff.loss import EDMLoss, SSIMLoss, GWLoss  # Replace 'your_module_name' with the actual module name where MinSNRLoss is defined\n",
    "\n",
    "class CombinedLoss(nn.Module):\n",
    "    def __init__(self, edm_weight=1.0, ssim_weight=10, gw_weight=0.0005, gamma=1.0,**kwargs):\n",
    "        super(CombinedLoss, self).__init__()\n",
    "        self.need_sigma = True\n",
    "        self.edm_loss = EDMLoss(gamma=gamma, **kwargs)\n",
    "        \n",
    "        self.ssim_loss = SSIMLoss( **kwargs)\n",
    "        self.gw_loss = GWLoss(**kwargs)\n",
    "\n",
    "        self.edm_weight = edm_weight\n",
    "        self.ssim_weight = ssim_weight\n",
    "        self.gw_weight = gw_weight\n",
    "\n",
    "    def forward(self, input: torch.Tensor, target: torch.Tensor, sigma: torch.Tensor) -> torch.Tensor: # input: latent target: latent sigma [b,64,64,64]\n",
    "        edm_loss = self.edm_loss(input, target, sigma)\n",
    "        ssim_loss = self.ssim_loss(input, target)\n",
    "        gw_loss = self.gw_loss(input, target)\n",
    "\n",
    "        # Combine losses with weights\n",
    "        combined_loss = (\n",
    "            self.edm_weight * edm_loss.mean() +  # [20, 64, 64, 64]\n",
    "            self.gw_weight * gw_loss.mean() +\n",
    "            self.ssim_weight * ssim_loss.mean()\n",
    "        )\n",
    "        print(self.edm_weight * edm_loss.mean(),self.gw_weight * gw_loss.mean(),self.ssim_weight * ssim_loss.mean())\n",
    "        return combined_loss"
   ]
  },
  {
   "cell_type": "code",
   "execution_count": 2,
   "metadata": {},
   "outputs": [],
   "source": [
    "# 加载保存的 input、target 和 sigma\n",
    "inputs = torch.load('/home/linjw/Innoverse/HCP-Diffusion/test/input_tensor.pt').cpu()\n",
    "target = torch.load('/home/linjw/Innoverse/HCP-Diffusion/test/target_tensor.pt').cpu()\n",
    "sigma = torch.load('/home/linjw/Innoverse/HCP-Diffusion/test/sigma_tensor.pt').cpu()\n",
    "\n"
   ]
  },
  {
   "cell_type": "code",
   "execution_count": 3,
   "metadata": {},
   "outputs": [
    {
     "name": "stdout",
     "output_type": "stream",
     "text": [
      "tensor(13.9741, grad_fn=<MulBackward0>) tensor(4.6646, grad_fn=<MulBackward0>) tensor(7.8663, grad_fn=<MulBackward0>)\n"
     ]
    },
    {
     "data": {
      "text/plain": [
       "tensor(26.5050, grad_fn=<AddBackward0>)"
      ]
     },
     "execution_count": 3,
     "metadata": {},
     "output_type": "execute_result"
    }
   ],
   "source": [
    "CombinedLoss()(inputs,target,sigma)"
   ]
  },
  {
   "cell_type": "code",
   "execution_count": 8,
   "metadata": {},
   "outputs": [
    {
     "data": {
      "image/png": "[encoded data removed]",
      "text/plain": [
       "<Figure size 432x288 with 1 Axes>"
      ]
     },
     "metadata": {
      "needs_background": "light"
     },
     "output_type": "display_data"
    }
   ],
   "source": [
    "import torch\n",
    "import matplotlib.pyplot as plt\n",
    "import seaborn as sns\n",
    "\n",
    "# 生成形状为 (64, 64, 64) 的随机张量\n",
    "tensor = edm_loss[1].detach()\n",
    "\n",
    "# 将张量展平以绘制直方图\n",
    "flat_tensor = tensor.view(-1).numpy()\n",
    "\n",
    "# 使用 seaborn 绘制直方图\n",
    "sns.histplot(flat_tensor, kde=True)\n",
    "\n",
    "# 添加标签和标题\n",
    "plt.xlabel('Value')\n",
    "plt.ylabel('Frequency')\n",
    "plt.title('Normal Distribution Plot')\n",
    "# 显示图形\n",
    "plt.show()\n"
   ]
  },
  {
   "cell_type": "code",
   "execution_count": 9,
   "metadata": {},
   "outputs": [
    {
     "data": {
      "image/png": "[encoded data removed]",
      "text/plain": [
       "<Figure size 432x288 with 1 Axes>"
      ]
     },
     "metadata": {
      "needs_background": "light"
     },
     "output_type": "display_data"
    }
   ],
   "source": [
    "import torch\n",
    "import matplotlib.pyplot as plt\n",
    "import seaborn as sns\n",
    "from matplotlib.ticker import ScalarFormatter\n",
    "# 生成形状为 (64, 64, 64) 的随机张量\n",
    "tensor = gw_loss[1].detach()\n",
    "\n",
    "# 将张量展平以绘制直方图\n",
    "flat_tensor = tensor.view(-1).numpy()\n",
    "\n",
    "# 使用 seaborn 绘制直方图\n",
    "sns.histplot(flat_tensor, kde=True)\n",
    "\n",
    "# 添加标签和标题\n",
    "plt.xlabel('Value')\n",
    "plt.ylabel('Frequency')\n",
    "plt.title('Normal Distribution Plot')\n",
    "\n",
    "\n",
    "# 显示图形\n",
    "plt.show()\n"
   ]
  },
  {
   "cell_type": "code",
   "execution_count": 10,
   "metadata": {},
   "outputs": [
    {
     "data": {
      "text/plain": [
       "0.0028"
      ]
     },
     "execution_count": 10,
     "metadata": {},
     "output_type": "execute_result"
    }
   ],
   "source": [
    "7000/(2.5*1e6)"
   ]
  },
  {
   "cell_type": "code",
   "execution_count": 11,
   "metadata": {},
   "outputs": [
    {
     "data": {
      "text/plain": [
       "0.0033333333333333335"
      ]
     },
     "execution_count": 11,
     "metadata": {},
     "output_type": "execute_result"
    }
   ],
   "source": [
    "1000/(0.3*1e6\n",
    "      )"
   ]
  },
  {
   "cell_type": "code",
   "execution_count": null,
   "metadata": {},
   "outputs": [],
   "source": []
  },
  {
   "cell_type": "code",
   "execution_count": null,
   "metadata": {},
   "outputs": [],
   "source": []
  }
 ],
 "metadata": {
  "kernelspec": {
   "display_name": "tomato",
   "language": "python",
   "name": "python3"
  },
  "language_info": {
   "codemirror_mode": {
    "name": "ipython",
    "version": 3
   },
   "file_extension": ".py",
   "mimetype": "text/x-python",
   "name": "python",
   "nbconvert_exporter": "python",
   "pygments_lexer": "ipython3",
   "version": "3.9.18"
  }
 },
 "nbformat": 4,
 "nbformat_minor": 2
}
