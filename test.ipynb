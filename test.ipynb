{
 "cells": [
  {
   "cell_type": "code",
   "execution_count": 1,
   "metadata": {},
   "outputs": [],
   "source": [
    "from diffusers import AutoencoderKL, UNet2DConditionModel, DDPMScheduler\n",
    "import torch"
   ]
  },
  {
   "cell_type": "code",
   "execution_count": 15,
   "metadata": {},
   "outputs": [],
   "source": [
    "\n",
    "import torch\n",
    "from torch import nn\n",
    "\n",
    "class OutputAdapterPatch():\n",
    "\n",
    "    def __init__(self, *args, vae_channel, last_dim=320, **kwargs):\n",
    "        super().__init__(*args, **kwargs)\n",
    "        self.conv_in = nn.Conv2d(in_channels=last_dim, out_channels=last_dim, kernel_size=3, stride=1, padding=1)\n",
    "\n",
    "        self.res_block = nn.Sequential(\n",
    "            nn.GroupNorm(num_groups=32, num_channels=last_dim),\n",
    "            nn.SiLU(),\n",
    "            nn.Conv2d(in_channels=last_dim, out_channels=last_dim, kernel_size=3, stride=1, padding=1),\n",
    "            nn.GroupNorm(num_groups=32, num_channels=last_dim),\n",
    "            nn.SiLU(),\n",
    "            nn.Conv2d(in_channels=last_dim, out_channels=last_dim, kernel_size=3, stride=1, padding=1),\n",
    "        )\n",
    "\n",
    "        self.conv_out = nn.Sequential(\n",
    "            nn.GroupNorm(num_groups=32, num_channels=last_dim),\n",
    "            nn.SiLU(),\n",
    "            nn.Conv2d(in_channels=last_dim, out_channels=vae_channel, kernel_size=3, stride=1, padding=1),\n",
    "        )\n",
    "    def post_forward(self, x):\n",
    "        \n",
    "        residual = self.conv_in(x)\n",
    "        x = self.res_block(x)\n",
    "        x = x + residual \n",
    "        x = self.conv_out(x) \n",
    "        return x"
   ]
  },
  {
   "cell_type": "code",
   "execution_count": 16,
   "metadata": {},
   "outputs": [],
   "source": [
    "md = OutputAdapterPatch(vae_channel=64)"
   ]
  },
  {
   "cell_type": "code",
   "execution_count": 18,
   "metadata": {},
   "outputs": [
    {
     "data": {
      "text/plain": [
       "torch.Size([1, 64, 64, 64])"
      ]
     },
     "execution_count": 18,
     "metadata": {},
     "output_type": "execute_result"
    }
   ],
   "source": [
    "md.post_forward(torch.Tensor(1,320,64,64)).shape"
   ]
  },
  {
   "cell_type": "code",
   "execution_count": 2,
   "metadata": {},
   "outputs": [],
   "source": [
    "noisy_latents = torch.Tensor(40, 64, 64, 64).cuda()\n",
    "timesteps = torch.Tensor([615, 678, 556,  34, 389, 288,  84, 299, 459, 916, 660, 135, 903, 818,\n",
    "        978, 724, 331, 354, 636, 679, 211, 213, 288, 469, 964, 393, 515, 459,\n",
    "         61, 691, 939, 205, 163, 692, 900, 784, 395, 612, 445, 586]).long().cuda()\n",
    "encoder_hidden_states = torch.Tensor(40, 77, 768).cuda()"
   ]
  },
  {
   "cell_type": "code",
   "execution_count": 5,
   "metadata": {},
   "outputs": [
    {
     "name": "stderr",
     "output_type": "stream",
     "text": [
      "Some weights of UNet2DConditionModel were not initialized from the model checkpoint at deepghs/animefull-latest and are newly initialized because the shapes did not match:\n",
      "- conv_in.weight: found shape torch.Size([320, 4, 3, 3]) in the checkpoint and torch.Size([320, 64, 3, 3]) in the model instantiated\n",
      "- conv_out.weight: found shape torch.Size([4, 320, 3, 3]) in the checkpoint and torch.Size([64, 320, 3, 3]) in the model instantiated\n",
      "- conv_out.bias: found shape torch.Size([4]) in the checkpoint and torch.Size([64]) in the model instantiated\n",
      "You should probably TRAIN this model on a down-stream task to be able to use it for predictions and inference.\n"
     ]
    }
   ],
   "source": [
    "unet = UNet2DConditionModel.from_pretrained(\n",
    "            'deepghs/animefull-latest', subfolder=\"unet\", low_cpu_mem_usage=False, ignore_mismatched_sizes=True, in_channels=64, out_channels=64\n",
    "        ).cuda()"
   ]
  },
  {
   "cell_type": "code",
   "execution_count": 13,
   "metadata": {},
   "outputs": [
    {
     "data": {
      "text/plain": [
       "torch.Size([3, 64, 66, 66])"
      ]
     },
     "execution_count": 13,
     "metadata": {},
     "output_type": "execute_result"
    }
   ],
   "source": [
    "torch.nn.Conv2d(in_channels=3, out_channels=64, kernel_size=1, stride=1, padding=1)(torch.Tensor(3,3,64,64)).shape"
   ]
  },
  {
   "cell_type": "code",
   "execution_count": null,
   "metadata": {},
   "outputs": [],
   "source": []
  },
  {
   "cell_type": "code",
   "execution_count": 4,
   "metadata": {},
   "outputs": [
    {
     "data": {
      "text/plain": [
       "torch.Size([40, 1, 64, 64])"
      ]
     },
     "execution_count": 4,
     "metadata": {},
     "output_type": "execute_result"
    }
   ],
   "source": [
    "unet(noisy_latents, timesteps, encoder_hidden_states).sample.shape"
   ]
  },
  {
   "cell_type": "code",
   "execution_count": 7,
   "metadata": {},
   "outputs": [
    {
     "data": {
      "text/plain": [
       "torch.Size([4, 64, 64, 64])"
      ]
     },
     "execution_count": 7,
     "metadata": {},
     "output_type": "execute_result"
    }
   ],
   "source": [
    "import torch\n",
    "import torch.nn as nn\n",
    "\n",
    "class ImageAdapter(nn.Module):\n",
    "    def __init__(self, in_channels, adapter_channels):\n",
    "        super(ImageAdapter, self).__init__()\n",
    "        self.adapter = nn.Sequential(\n",
    "            nn.Conv2d(in_channels, adapter_channels, kernel_size=1),\n",
    "            nn.ReLU(),\n",
    "            nn.Conv2d(adapter_channels, in_channels, kernel_size=1)\n",
    "        )\n",
    "\n",
    "    def forward(self, x):\n",
    "        return x + self.adapter(x)\n",
    "\n",
    "# Example usage\n",
    "in_channels = 64  # Assuming RGB images, adjust as needed\n",
    "adapter_channels = 64\n",
    "\n",
    "# Create an image adapter\n",
    "image_adapter = ImageAdapter(in_channels, adapter_channels)\n",
    "\n",
    "# Example input tensor (batch size, channels, height, width)\n",
    "input_tensor = torch.randn(4, in_channels, 64, 64)\n",
    "\n",
    "# Apply the image adapter to the input tensor\n",
    "image_adapter(input_tensor).shape"
   ]
  },
  {
   "cell_type": "code",
   "execution_count": 28,
   "metadata": {},
   "outputs": [
    {
     "name": "stdout",
     "output_type": "stream",
     "text": [
      "Working with z of shape (1, 64, 32, 32) = 65536 dimensions.\n",
      "loaded pretrained LPIPS loss from movqgan/modules/losses/lpips/vgg.pth\n",
      "VQLPIPSWithDiscriminator running with hinge loss.\n",
      "use_ema = True\n"
     ]
    }
   ],
   "source": [
    "from movqgan.util import instantiate_from_config\n",
    "from movqgan import get_movqgan_model\n",
    "from omegaconf import OmegaConf\n",
    "import torch\n",
    "config = OmegaConf.load(f\"./vae/vaegan.yaml\")\n",
    "model = instantiate_from_config(config['model'])# Initialize data loaders\n",
    "ckpt_path = f\"./vae/ckpt/step=13499-model.ckpt\"\n",
    "checkpoint = torch.load(ckpt_path)\n",
    "model.load_state_dict(checkpoint['state_dict'])\n",
    "vae = model.cuda()"
   ]
  },
  {
   "cell_type": "code",
   "execution_count": 35,
   "metadata": {},
   "outputs": [
    {
     "data": {
      "text/plain": [
       "torch.Size([1, 3, 768, 512])"
      ]
     },
     "execution_count": 35,
     "metadata": {},
     "output_type": "execute_result"
    }
   ],
   "source": [
    "vae.decode(torch.Tensor(1, 64, 96, 64).cuda(),torch.Tensor(1, 64, 96, 64).cuda())[0].shape"
   ]
  },
  {
   "cell_type": "code",
   "execution_count": null,
   "metadata": {},
   "outputs": [],
   "source": []
  },
  {
   "cell_type": "code",
   "execution_count": 12,
   "metadata": {},
   "outputs": [
    {
     "data": {
      "text/plain": [
       "hcpdiff.utils.pipe_hook.HookPipe_T2I"
      ]
     },
     "execution_count": 12,
     "metadata": {},
     "output_type": "execute_result"
    }
   ],
   "source": [
    "from hcpdiff.utils.pipe_hook import HookPipe_T2I, HookPipe_I2I, HookPipe_Inpaint\n",
    "from hcpdiff.utils.net_utils import to_cpu, to_cuda, auto_tokenizer, auto_text_encoder\n",
    "import torch\n",
    "pretrained_model = \"stablediffusionapi/anything-v5\"\n",
    "HookPipe_T2I"
   ]
  },
  {
   "cell_type": "code",
   "execution_count": 13,
   "metadata": {},
   "outputs": [
    {
     "name": "stderr",
     "output_type": "stream",
     "text": [
      "You are using a model of type clip_text_model to instantiate a model of type . This is not supported for all configurations of models and can yield errors.\n"
     ]
    },
    {
     "data": {
      "application/vnd.jupyter.widget-view+json": {
       "model_id": "9fd6f8ac992d44c09f32a064ba1de28e",
       "version_major": 2,
       "version_minor": 0
      },
      "text/plain": [
       "Loading pipeline components...:   0%|          | 0/6 [00:00<?, ?it/s]"
      ]
     },
     "metadata": {},
     "output_type": "display_data"
    },
    {
     "name": "stderr",
     "output_type": "stream",
     "text": [
      "/home/linjw/anaconda3/envs/innoverse/lib/python3.9/site-packages/transformers/models/clip/feature_extraction_clip.py:28: FutureWarning: The class CLIPFeatureExtractor is deprecated and will be removed in version 5 of Transformers. Please use CLIPImageProcessor instead.\n",
      "  warnings.warn(\n"
     ]
    }
   ],
   "source": [
    "pipeline = HookPipe_T2I\n",
    "te = auto_text_encoder(pretrained_model).from_pretrained(pretrained_model, subfolder=\"text_encoder\")\n",
    "tokenizer = auto_tokenizer(pretrained_model).from_pretrained(pretrained_model, subfolder=\"tokenizer\", use_fast=False)\n",
    "pipe = pipeline.from_pretrained(pretrained_model, safety_checker=None, requires_safety_checker=False,\n",
    "                                text_encoder=te, tokenizer=tokenizer)"
   ]
  },
  {
   "cell_type": "code",
   "execution_count": 27,
   "metadata": {},
   "outputs": [
    {
     "data": {
      "text/plain": [
       "torch.Size([1, 3, 768, 512])"
      ]
     },
     "execution_count": 27,
     "metadata": {},
     "output_type": "execute_result"
    }
   ],
   "source": [
    "pipe.vae.decode(torch.Tensor(1, 4, 96, 64),return_dict=False)[0].shape"
   ]
  },
  {
   "cell_type": "code",
   "execution_count": 47,
   "metadata": {},
   "outputs": [
    {
     "data": {
      "text/plain": [
       "tensor([[[[nan, nan, nan,  ..., nan, nan, nan],\n",
       "          [nan, nan, nan,  ..., nan, nan, nan],\n",
       "          [nan, nan, nan,  ..., nan, nan, nan],\n",
       "          ...,\n",
       "          [nan, nan, nan,  ..., nan, nan, nan],\n",
       "          [nan, nan, nan,  ..., nan, nan, nan],\n",
       "          [nan, nan, nan,  ..., nan, nan, nan]],\n",
       "\n",
       "         [[nan, nan, nan,  ..., nan, nan, nan],\n",
       "          [nan, nan, nan,  ..., nan, nan, nan],\n",
       "          [nan, nan, nan,  ..., nan, nan, nan],\n",
       "          ...,\n",
       "          [nan, nan, nan,  ..., nan, nan, nan],\n",
       "          [nan, nan, nan,  ..., nan, nan, nan],\n",
       "          [nan, nan, nan,  ..., nan, nan, nan]],\n",
       "\n",
       "         [[nan, nan, nan,  ..., nan, nan, nan],\n",
       "          [nan, nan, nan,  ..., nan, nan, nan],\n",
       "          [nan, nan, nan,  ..., nan, nan, nan],\n",
       "          ...,\n",
       "          [nan, nan, nan,  ..., nan, nan, nan],\n",
       "          [nan, nan, nan,  ..., nan, nan, nan],\n",
       "          [nan, nan, nan,  ..., nan, nan, nan]]]],\n",
       "       grad_fn=<ConvolutionBackward0>)"
      ]
     },
     "execution_count": 47,
     "metadata": {},
     "output_type": "execute_result"
    }
   ],
   "source": [
    "pipe.vae.decode(torch.Tensor(1, 4, 96, 64),return_dict=False)[0]"
   ]
  },
  {
   "cell_type": "code",
   "execution_count": 37,
   "metadata": {},
   "outputs": [
    {
     "data": {
      "text/plain": [
       "diffusers.models.vae.DecoderOutput"
      ]
     },
     "execution_count": 37,
     "metadata": {},
     "output_type": "execute_result"
    }
   ],
   "source": [
    "type(pipe.vae.decode(torch.Tensor(1, 4, 96, 64),return_dict=True))"
   ]
  },
  {
   "cell_type": "code",
   "execution_count": 44,
   "metadata": {},
   "outputs": [
    {
     "data": {
      "text/plain": [
       "diffusers.models.vae.DecoderOutput"
      ]
     },
     "execution_count": 44,
     "metadata": {},
     "output_type": "execute_result"
    }
   ],
   "source": [
    "type(pipe.vae.decode(torch.Tensor(1, 4, 96, 64)))"
   ]
  },
  {
   "cell_type": "code",
   "execution_count": 43,
   "metadata": {},
   "outputs": [
    {
     "data": {
      "text/plain": [
       "DecoderOutput(sample=tensor([[[[-6.0997e-17,  1.4013e-45, -5.3636e+03,  ...,  1.5588e-01,\n",
       "            1.5588e-01,  1.5588e-01],\n",
       "          [ 1.5588e-01,  1.5588e-01,         nan,  ...,  1.5588e-01,\n",
       "                   nan,  1.5588e-01],\n",
       "          [ 1.5588e-01,  1.5588e-01,  1.5588e-01,  ...,  1.5588e-01,\n",
       "            1.5588e-01,  1.5588e-01],\n",
       "          ...,\n",
       "          [ 1.5588e-01,  1.5588e-01,  1.5588e-01,  ...,  1.5588e-01,\n",
       "            1.5588e-01,  1.5588e-01],\n",
       "          [ 1.5588e-01,  1.5588e-01,  1.5588e-01,  ...,  1.5588e-01,\n",
       "            1.5588e-01,  1.5588e-01],\n",
       "          [ 1.5588e-01,  1.5588e-01,  1.5588e-01,  ...,  1.5588e-01,\n",
       "            1.5588e-01,  1.5588e-01]],\n",
       "\n",
       "         [[ 9.3767e+02, -8.2520e-02, -8.2520e-02,  ..., -8.2520e-02,\n",
       "           -8.2520e-02, -8.2520e-02],\n",
       "          [-8.2520e-02, -8.2520e-02,         nan,  ..., -8.2520e-02,\n",
       "                   nan, -8.2520e-02],\n",
       "          [-8.2520e-02, -8.2520e-02, -8.2520e-02,  ..., -8.2520e-02,\n",
       "           -8.2520e-02, -8.2520e-02],\n",
       "          ...,\n",
       "          [-8.2520e-02, -8.2520e-02, -8.2520e-02,  ..., -8.2520e-02,\n",
       "           -8.2520e-02, -8.2520e-02],\n",
       "          [-8.2520e-02, -8.2520e-02, -8.2520e-02,  ..., -8.2520e-02,\n",
       "           -8.2520e-02, -8.2520e-02],\n",
       "          [-8.2520e-02, -8.2520e-02, -8.2520e-02,  ..., -8.2520e-02,\n",
       "           -8.2520e-02, -8.2520e-02]],\n",
       "\n",
       "         [[ 1.4628e+03, -1.1127e-01, -1.1127e-01,  ..., -1.1127e-01,\n",
       "           -1.1127e-01, -1.1127e-01],\n",
       "          [-1.1127e-01, -1.1127e-01,         nan,  ..., -1.1127e-01,\n",
       "                   nan, -1.1127e-01],\n",
       "          [-1.1127e-01, -1.1127e-01, -1.1127e-01,  ..., -1.1127e-01,\n",
       "           -1.1127e-01, -1.1127e-01],\n",
       "          ...,\n",
       "          [-1.1127e-01, -1.1127e-01, -1.1127e-01,  ..., -1.1127e-01,\n",
       "           -1.1127e-01, -1.1127e-01],\n",
       "          [-1.1127e-01, -1.1127e-01, -1.1127e-01,  ..., -1.1127e-01,\n",
       "           -1.1127e-01, -1.1127e-01],\n",
       "          [-1.1127e-01, -1.1127e-01, -1.1127e-01,  ..., -1.1127e-01,\n",
       "           -1.1127e-01, -1.1127e-01]],\n",
       "\n",
       "         [[-1.4354e+03,  4.8920e-02,  4.8920e-02,  ...,  4.8920e-02,\n",
       "            4.8920e-02,  4.8920e-02],\n",
       "          [ 4.8920e-02,  4.8920e-02,         nan,  ...,  4.8920e-02,\n",
       "                   nan,  4.8920e-02],\n",
       "          [ 4.8920e-02,  4.8920e-02,  4.8920e-02,  ...,  4.8920e-02,\n",
       "            4.8920e-02,  4.8920e-02],\n",
       "          ...,\n",
       "          [ 4.8920e-02,  4.8920e-02,  4.8920e-02,  ...,  4.8920e-02,\n",
       "            4.8920e-02,  4.8920e-02],\n",
       "          [ 4.8920e-02,  4.8920e-02,  4.8920e-02,  ...,  4.8920e-02,\n",
       "            4.8920e-02,  4.8920e-02],\n",
       "          [ 4.8920e-02,  4.8920e-02,  4.8920e-02,  ...,  4.8920e-02,\n",
       "            4.8920e-02,  4.8920e-02]]]]))"
      ]
     },
     "execution_count": 43,
     "metadata": {},
     "output_type": "execute_result"
    }
   ],
   "source": [
    "import diffusers\n",
    "diffusers.models.vae.DecoderOutput(sample = torch.Tensor(1, 4, 96, 64))"
   ]
  },
  {
   "cell_type": "code",
   "execution_count": 21,
   "metadata": {},
   "outputs": [
    {
     "ename": "ModuleNotFoundError",
     "evalue": "No module named 'colossalai.legacy.zero.gemini.colo_init_context'",
     "output_type": "error",
     "traceback": [
      "\u001b[0;31m---------------------------------------------------------------------------\u001b[0m",
      "\u001b[0;31mModuleNotFoundError\u001b[0m                       Traceback (most recent call last)",
      "\u001b[1;32m/home/linjw/Innoverse/HCP-Diffusion/test.ipynb 单元格 18\u001b[0m line \u001b[0;36m<cell line: 12>\u001b[0;34m()\u001b[0m\n\u001b[1;32m     <a href='vscode-notebook-cell://ssh-remote%2Bpizza/home/linjw/Innoverse/HCP-Diffusion/test.ipynb#X23sdnNjb2RlLXJlbW90ZQ%3D%3D?line=9'>10</a>\u001b[0m \u001b[39m# from colossalai.utils import get_static_torch_model\u001b[39;00m\n\u001b[1;32m     <a href='vscode-notebook-cell://ssh-remote%2Bpizza/home/linjw/Innoverse/HCP-Diffusion/test.ipynb#X23sdnNjb2RlLXJlbW90ZQ%3D%3D?line=10'>11</a>\u001b[0m \u001b[39mfrom\u001b[39;00m \u001b[39mcolossalai\u001b[39;00m\u001b[39m.\u001b[39;00m\u001b[39mutils\u001b[39;00m \u001b[39mimport\u001b[39;00m get_current_device\n\u001b[0;32m---> <a href='vscode-notebook-cell://ssh-remote%2Bpizza/home/linjw/Innoverse/HCP-Diffusion/test.ipynb#X23sdnNjb2RlLXJlbW90ZQ%3D%3D?line=11'>12</a>\u001b[0m \u001b[39mfrom\u001b[39;00m \u001b[39mcolossalai\u001b[39;00m\u001b[39m.\u001b[39;00m\u001b[39mlegacy\u001b[39;00m\u001b[39m.\u001b[39;00m\u001b[39mzero\u001b[39;00m\u001b[39m.\u001b[39;00m\u001b[39mgemini\u001b[39;00m\u001b[39m.\u001b[39;00m\u001b[39mcolo_init_context\u001b[39;00m \u001b[39mimport\u001b[39;00m ColoInitContext\n\u001b[1;32m     <a href='vscode-notebook-cell://ssh-remote%2Bpizza/home/linjw/Innoverse/HCP-Diffusion/test.ipynb#X23sdnNjb2RlLXJlbW90ZQ%3D%3D?line=12'>13</a>\u001b[0m \u001b[39mfrom\u001b[39;00m \u001b[39mcolossalai\u001b[39;00m\u001b[39m.\u001b[39;00m\u001b[39mutils\u001b[39;00m\u001b[39m.\u001b[39;00m\u001b[39mmodel\u001b[39;00m\u001b[39m.\u001b[39;00m\u001b[39mcolo_init_context\u001b[39;00m \u001b[39mimport\u001b[39;00m _convert_to_coloparam\n\u001b[1;32m     <a href='vscode-notebook-cell://ssh-remote%2Bpizza/home/linjw/Innoverse/HCP-Diffusion/test.ipynb#X23sdnNjb2RlLXJlbW90ZQ%3D%3D?line=13'>14</a>\u001b[0m \u001b[39mfrom\u001b[39;00m \u001b[39mcolossalai\u001b[39;00m\u001b[39m.\u001b[39;00m\u001b[39mtensor\u001b[39;00m \u001b[39mimport\u001b[39;00m ColoParameter\n",
      "\u001b[0;31mModuleNotFoundError\u001b[0m: No module named 'colossalai.legacy.zero.gemini.colo_init_context'"
     ]
    }
   ],
   "source": [
    "import argparse\n",
    "import sys\n",
    "import torch\n",
    "from torch import nn\n",
    "\n",
    "import colossalai\n",
    "import colossalai.tensor\n",
    "from colossalai.legacy.context.parallel_mode import ParallelMode\n",
    "from colossalai.legacy.core import global_context as gpc\n",
    "# from colossalai.utils import get_static_torch_model\n",
    "from colossalai.utils import get_current_device\n",
    "from colossalai.legacy.zero.gemini.colo_init_context import ColoInitContext\n",
    "from colossalai.utils.model.colo_init_context import _convert_to_coloparam\n",
    "from colossalai.tensor import ColoParameter\n",
    "\n",
    "from hcpdiff.train_ac import Trainer, get_scheduler, ModelEMA\n",
    "from diffusers import UNet2DConditionModel\n",
    "from hcpdiff.utils.colo_utils import gemini_zero_dpp, GeminiAdamOptimizerP\n",
    "from hcpdiff.utils.utils import load_config_with_cli\n",
    "from hcpdiff.utils.net_utils import auto_text_encoder, TEUnetWrapper"
   ]
  },
  {
   "cell_type": "code",
   "execution_count": 27,
   "metadata": {},
   "outputs": [
    {
     "ename": "AttributeError",
     "evalue": "module 'colossalai.legacy.zero.gemini' has no attribute 'ColoInitContext'",
     "output_type": "error",
     "traceback": [
      "\u001b[0;31m---------------------------------------------------------------------------\u001b[0m",
      "\u001b[0;31mAttributeError\u001b[0m                            Traceback (most recent call last)",
      "\u001b[1;32m/home/linjw/Innoverse/HCP-Diffusion/test.ipynb 单元格 19\u001b[0m line \u001b[0;36m<cell line: 1>\u001b[0;34m()\u001b[0m\n\u001b[0;32m----> <a href='vscode-notebook-cell://ssh-remote%2Bpizza/home/linjw/Innoverse/HCP-Diffusion/test.ipynb#X30sdnNjb2RlLXJlbW90ZQ%3D%3D?line=0'>1</a>\u001b[0m colossalai\u001b[39m.\u001b[39;49mlegacy\u001b[39m.\u001b[39;49mzero\u001b[39m.\u001b[39;49mgemini\u001b[39m.\u001b[39;49mColoInitContext\n",
      "\u001b[0;31mAttributeError\u001b[0m: module 'colossalai.legacy.zero.gemini' has no attribute 'ColoInitContext'"
     ]
    }
   ],
   "source": [
    "colossalai.legacy.zero.gemini.ColoInitContext"
   ]
  },
  {
   "cell_type": "code",
   "execution_count": null,
   "metadata": {},
   "outputs": [],
   "source": []
  },
  {
   "cell_type": "code",
   "execution_count": 1,
   "metadata": {},
   "outputs": [
    {
     "name": "stdout",
     "output_type": "stream",
     "text": [
      "The history saving thread hit an unexpected error (DatabaseError('database disk image is malformed')).History will not be written to the database.\n"
     ]
    }
   ],
   "source": [
    "from torchvision import transforms\n",
    "from PIL import Image\n",
    "\n",
    "# 定义自定义的 transform 函数\n",
    "class ResizeAndPad:\n",
    "    def __init__(self, target_size):\n",
    "        self.target_size = target_size\n",
    "\n",
    "    def __call__(self, img):\n",
    "        # 获取原始图像的宽和高\n",
    "        width, height = img.size\n",
    "\n",
    "        # 计算缩放比例\n",
    "        scale = max(width, height) / max(self.target_size)\n",
    "\n",
    "        # 计算缩放后的新尺寸\n",
    "        new_width = int(width / scale)\n",
    "        new_height = int(height / scale)\n",
    "\n",
    "        # 缩放图像\n",
    "        img = img.resize((new_width, new_height), Image.LANCZOS)\n",
    "\n",
    "        # 创建一个白色背景的新图像\n",
    "        new_img = Image.new(\"RGB\", self.target_size, (255, 255, 255))\n",
    "\n",
    "        # 将缩放后的图像粘贴到新图像中央\n",
    "        offset = ((self.target_size[0] - new_width) // 2, (self.target_size[1] - new_height) // 2)\n",
    "        new_img.paste(img, offset)\n",
    "\n",
    "        return new_img\n",
    "\n",
    "# 定义 transforms.Compose\n",
    "transform = transforms.Compose([\n",
    "    ResizeAndPad([512, 512]),\n",
    "    transforms.ToTensor(),  # 转为 PyTorch 的 Tensor 格式\n",
    "])\n",
    "\n",
    "# 使用 transform 对图像进行预处理\n",
    "img = Image.open(\"/home/linjw/Innoverse/HCP-Diffusion/imgs/CounterfeitV30_sample.jpeg\")\n"
   ]
  },
  {
   "cell_type": "code",
   "execution_count": 2,
   "metadata": {},
   "outputs": [
    {
     "data": {
      "image/png": "[encoded data removed]",
      "text/plain": [
       "<Figure size 432x288 with 1 Axes>"
      ]
     },
     "metadata": {
      "needs_background": "light"
     },
     "output_type": "display_data"
    }
   ],
   "source": [
    "import matplotlib.pyplot as plt\n",
    "import torchvision.transforms.functional as F\n",
    "# 应用预处理\n",
    "transformed_img = transform(img)\n",
    "\n",
    "# 转为 NumPy 数组并反归一化\n",
    "img_np = F.to_pil_image(transformed_img)\n",
    "img_np = F.to_tensor(img_np)\n",
    "img_np = img_np.numpy().transpose((1, 2, 0))\n",
    "\n",
    "# 显示图像\n",
    "plt.imshow(img_np)\n",
    "plt.axis('off')\n",
    "plt.show()\n"
   ]
  },
  {
   "cell_type": "code",
   "execution_count": null,
   "metadata": {},
   "outputs": [],
   "source": []
  }
 ],
 "metadata": {
  "kernelspec": {
   "display_name": "innoverse",
   "language": "python",
   "name": "python3"
  },
  "language_info": {
   "codemirror_mode": {
    "name": "ipython",
    "version": 3
   },
   "file_extension": ".py",
   "mimetype": "text/x-python",
   "name": "python",
   "nbconvert_exporter": "python",
   "pygments_lexer": "ipython3",
   "version": "3.9.18"
  }
 },
 "nbformat": 4,
 "nbformat_minor": 2
}
